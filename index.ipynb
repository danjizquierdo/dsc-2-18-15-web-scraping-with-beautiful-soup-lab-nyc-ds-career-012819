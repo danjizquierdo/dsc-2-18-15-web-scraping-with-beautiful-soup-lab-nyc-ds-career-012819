{
 "cells": [
  {
   "cell_type": "markdown",
   "metadata": {},
   "source": [
    "# Web Scraping with Beautiful Soup - Lab"
   ]
  },
  {
   "cell_type": "markdown",
   "metadata": {},
   "source": [
    "## Introduction\n",
    "\n",
    "Now that you've read and seen some docmentation regarding the use of Beautiful Soup, its time to practice and put that to work! In this lab you'll formalize some of our example code into functions and scrape the lyrics from an artist of your choice."
   ]
  },
  {
   "cell_type": "markdown",
   "metadata": {},
   "source": [
    "## Objectives\n",
    "You will be able to:\n",
    "* Scrape Static webpages\n",
    "* Select specific elements from the DOM"
   ]
  },
  {
   "cell_type": "markdown",
   "metadata": {},
   "source": [
    "## Link Scraping\n",
    "\n",
    "Write a function to collect the links to each of the song pages from a given artist page."
   ]
  },
  {
   "cell_type": "code",
   "execution_count": 47,
   "metadata": {},
   "outputs": [],
   "source": [
    "#Starter Code\n",
    "from bs4 import BeautifulSoup\n",
    "from selenium import webdriver\n",
    "import pandas as pd\n",
    "import requests\n",
    "import time\n",
    "\n",
    "url = 'https://genius.com/artists/Coheed-and-cambria' #Put the URL of your AZLyrics Artist Page here!\n",
    "\n",
    "driver = webdriver.Chrome('/Users/flatironschool/Downloads/chromedriver')\n",
    "#html_page = requests.get(url) #Make a get request to retrieve the page\n",
    "#soup = BeautifulSoup(html_page.content, 'html.parser') #Pass the page contents to beautiful soup for parsing\n",
    "\n",
    "\n",
    "#The example from our lecture/reading\n",
    "# data = [] #Create a storage container\n",
    "# for album_n in range(len(albums)):\n",
    "#     #On the last album, we won't be able to look forward\n",
    "#     if album_n == len(albums)-1:\n",
    "#         cur_album = albums[album_n]\n",
    "#         album_songs = cur_album.findNextSiblings('a')\n",
    "#         for song in album_songs:\n",
    "#             page = song.get('href')\n",
    "#             title = song.text\n",
    "#             album = cur_album.text\n",
    "#             data.append((title, page, album))\n",
    "#     else:\n",
    "#         cur_album = albums[album_n]\n",
    "#         next_album = albums[album_n+1]\n",
    "#         saca = cur_album.findNextSiblings('a') #songs after current album\n",
    "#         sbna = next_album.findPreviousSiblings('a') #songs before next album\n",
    "#         album_songs = [song for song in saca if song in sbna] #album songs are those listed after the current album but before the next one!\n",
    "#         for song in album_songs:\n",
    "#             page = song.get('href')\n",
    "#             title = song.text\n",
    "#             album = cur_album.text\n",
    "#             data.append((title, page, album))\n",
    "# data[:2]"
   ]
  },
  {
   "cell_type": "code",
   "execution_count": 53,
   "metadata": {},
   "outputs": [
    {
     "name": "stdout",
     "output_type": "stream",
     "text": [
      "https://genius.com/albums/Coheed-and-cambria/Vaxis-act-i-the-unheavenly-creatures\n",
      "https://genius.com/Coheed-and-cambria-prologue-lyrics\n",
      "Prologue Lyrics\n",
      "https://genius.com/Coheed-and-cambria-the-dark-sentencer-lyrics\n",
      "The Dark Sentencer Lyrics\n",
      "https://genius.com/Coheed-and-cambria-unheavenly-creatures-lyrics\n",
      "Unheavenly Creatures Lyrics\n",
      "https://genius.com/Coheed-and-cambria-toys-lyrics\n",
      "Toys Lyrics\n",
      "https://genius.com/Coheed-and-cambria-black-sunday-lyrics\n",
      "Black Sunday Lyrics\n",
      "https://genius.com/Coheed-and-cambria-queen-of-the-dark-lyrics\n",
      "Queen of the Dark Lyrics\n",
      "https://genius.com/Coheed-and-cambria-true-ugly-lyrics\n",
      "True Ugly Lyrics\n",
      "https://genius.com/Coheed-and-cambria-love-protocol-lyrics\n",
      "Love Protocol Lyrics\n",
      "https://genius.com/Coheed-and-cambria-the-pavilion-a-long-way-back-lyrics\n",
      "The Pavilion (A Long Way Back) Lyrics\n",
      "https://genius.com/Coheed-and-cambria-night-time-walkers-lyrics\n",
      "Night-Time Walkers Lyrics\n",
      "https://genius.com/Coheed-and-cambria-the-gutter-lyrics\n",
      "The Gutter Lyrics\n",
      "https://genius.com/Coheed-and-cambria-all-on-fire-lyrics\n",
      "All On Fire Lyrics\n",
      "https://genius.com/Coheed-and-cambria-it-walks-among-us-lyrics\n",
      "It Walks Among Us Lyrics\n",
      "https://genius.com/Coheed-and-cambria-old-flames-lyrics\n",
      "Old Flames Lyrics\n",
      "https://genius.com/Coheed-and-cambria-lucky-stars-lyrics\n",
      "Lucky Stars Lyrics\n",
      "https://genius.com/albums/Coheed-and-cambria/The-color-before-the-sun\n",
      "https://genius.com/Coheed-and-cambria-island-lyrics\n",
      "Island Lyrics\n",
      "https://genius.com/Coheed-and-cambria-eraser-lyrics\n",
      "Eraser Lyrics\n",
      "https://genius.com/Coheed-and-cambria-colors-lyrics\n",
      "Colors Lyrics\n",
      "https://genius.com/Coheed-and-cambria-here-to-mars-lyrics\n",
      "Here to Mars Lyrics\n",
      "https://genius.com/Coheed-and-cambria-ghost-lyrics\n",
      "Ghost Lyrics\n",
      "https://genius.com/Coheed-and-cambria-atlas-lyrics\n",
      "Atlas Lyrics\n",
      "https://genius.com/Coheed-and-cambria-young-love-lyrics\n",
      "Young Love Lyrics\n",
      "https://genius.com/Coheed-and-cambria-you-got-spirit-kid-lyrics\n",
      "You Got Spirit, Kid Lyrics\n",
      "https://genius.com/Coheed-and-cambria-the-audience-lyrics\n",
      "The Audience Lyrics\n",
      "https://genius.com/Coheed-and-cambria-peace-to-the-mountain-lyrics\n",
      "Peace to the Mountain Lyrics\n",
      "https://genius.com/Coheed-and-cambria-bridge-and-tunnel-lyrics\n",
      "Bridge and Tunnel Lyrics\n",
      "https://genius.com/Coheed-and-cambria-fangs-of-the-fox-lyrics\n",
      "Fangs of the Fox Lyrics\n",
      "https://genius.com/albums/Coheed-and-cambria/The-afterman-descension-big-beige-demos\n",
      "https://genius.com/Coheed-and-cambria-sentry-the-defiant-demo-lyrics\n",
      "Sentry the Defiant (Demo) Lyrics\n",
      "https://genius.com/Coheed-and-cambria-the-hard-sell-demo-three-lyrics\n",
      "The Hard Sell (Demo Three) Lyrics\n",
      "https://genius.com/Coheed-and-cambria-gravitys-union-demo-lyrics\n",
      "Gravity's Union (Demo) Lyrics\n",
      "https://genius.com/Coheed-and-cambria-away-we-go-demo-lyrics\n",
      "Away We Go (Demo) Lyrics\n",
      "https://genius.com/Coheed-and-cambria-iron-fist-bunny-man-bridge-demo-lyrics\n",
      "Iron Fist (Bunny Man Bridge Demo) Lyrics\n",
      "https://genius.com/Coheed-and-cambria-iron-fist-acoustic-stripped-demo-lyrics\n",
      "Iron Fist (Acoustic Stripped Demo) Lyrics\n",
      "https://genius.com/Coheed-and-cambria-2s-my-favorite-1-demo-lyrics\n",
      "2's My Favorite 1 (Demo) Lyrics\n",
      "https://genius.com/Coheed-and-cambria-2s-my-favorite-1-piano-demo-lyrics\n",
      "2's My Favorite 1 (Piano Demo) Lyrics\n",
      "https://genius.com/Coheed-and-cambria-carol-ann-lyrics\n",
      "Carol Ann Lyrics\n",
      "https://genius.com/Coheed-and-cambria-random-reality-shifts-lyrics\n",
      "Random Reality Shifts Lyrics\n",
      "https://genius.com/Coheed-and-cambria-dark-side-of-me-einzinger-and-sanchez-remix-lyrics\n",
      "Dark Side of Me (Einzinger and Sanchez Remix) Lyrics\n",
      "https://genius.com/albums/Coheed-and-cambria/The-afterman-descension\n",
      "https://genius.com/Coheed-and-cambria-pretelethal-lyrics\n",
      "Pretelethal Lyrics\n",
      "https://genius.com/Coheed-and-cambria-key-entity-extraction-v-sentry-the-defiant-lyrics\n",
      "Key Entity Extraction V: Sentry the Defiant Lyrics\n",
      "https://genius.com/Coheed-and-cambria-the-hard-sell-lyrics\n",
      "The Hard Sell Lyrics\n",
      "https://genius.com/Coheed-and-cambria-number-city-lyrics\n",
      "Number City Lyrics\n",
      "https://genius.com/Coheed-and-cambria-gravitys-union-lyrics\n",
      "Gravity's Union Lyrics\n",
      "https://genius.com/Coheed-and-cambria-away-we-go-lyrics\n",
      "Away We Go Lyrics\n",
      "https://genius.com/Coheed-and-cambria-iron-fist-lyrics\n",
      "Iron Fist Lyrics\n",
      "https://genius.com/Coheed-and-cambria-dark-side-of-me-lyrics\n",
      "Dark Side of Me Lyrics\n",
      "https://genius.com/Coheed-and-cambria-2s-my-favorite-1-lyrics\n",
      "2's My Favorite 1 Lyrics\n",
      "https://genius.com/Coheed-and-cambria-dark-side-of-me-einzinger-and-sanchez-remix-lyrics\n",
      "Dark Side of Me (Einzinger and Sanchez Remix) Lyrics\n",
      "https://genius.com/Coheed-and-cambria-carol-ann-lyrics\n",
      "Carol Ann Lyrics\n",
      "https://genius.com/Coheed-and-cambria-random-reality-shifts-lyrics\n",
      "Random Reality Shifts Lyrics\n",
      "https://genius.com/albums/Coheed-and-cambria/The-afterman-ascension\n",
      "https://genius.com/Coheed-and-cambria-the-hollow-lyrics\n",
      "The Hollow Lyrics\n",
      "https://genius.com/Coheed-and-cambria-key-entity-extraction-i-domino-the-destitute-lyrics\n",
      "Key Entity Extraction I: Domino the Destitute Lyrics\n",
      "https://genius.com/Coheed-and-cambria-the-afterman-lyrics\n",
      "The Afterman Lyrics\n",
      "https://genius.com/Coheed-and-cambria-mothers-of-men-lyrics\n",
      "Mothers of Men Lyrics\n",
      "https://genius.com/Coheed-and-cambria-goodnight-fair-lady-lyrics\n",
      "Goodnight, Fair Lady Lyrics\n",
      "https://genius.com/Coheed-and-cambria-key-entity-extraction-ii-holly-wood-the-cracked-lyrics\n",
      "Key Entity Extraction II: Holly Wood the Cracked Lyrics\n",
      "https://genius.com/Coheed-and-cambria-key-entity-extraction-iii-vic-the-butcher-lyrics\n",
      "Key Entity Extraction III: Vic the Butcher Lyrics\n",
      "https://genius.com/Coheed-and-cambria-key-entity-extraction-iv-evagria-the-faithful-lyrics\n",
      "Key Entity Extraction IV: Evagria the Faithful Lyrics\n",
      "https://genius.com/Coheed-and-cambria-subtraction-lyrics\n",
      "Subtraction Lyrics\n",
      "https://genius.com/albums/Coheed-and-cambria/Year-of-the-black-rainbow\n",
      "https://genius.com/Coheed-and-cambria-one-lyrics\n",
      "One Lyrics\n",
      "https://genius.com/Coheed-and-cambria-the-broken-lyrics\n",
      "The Broken Lyrics\n",
      "https://genius.com/Coheed-and-cambria-guns-of-summer-lyrics\n",
      "Guns of Summer Lyrics\n",
      "https://genius.com/Coheed-and-cambria-here-we-are-juggernaut-lyrics\n",
      "Here We Are Juggernaut Lyrics\n",
      "https://genius.com/Coheed-and-cambria-far-lyrics\n",
      "Far Lyrics\n",
      "https://genius.com/Coheed-and-cambria-this-shattered-symphony-lyrics\n",
      "This Shattered Symphony Lyrics\n",
      "https://genius.com/Coheed-and-cambria-world-of-lines-lyrics\n",
      "World of Lines Lyrics\n",
      "https://genius.com/Coheed-and-cambria-made-out-of-nothing-all-that-i-am-lyrics\n",
      "Made Out of Nothing (All That I Am) Lyrics\n",
      "https://genius.com/Coheed-and-cambria-pearl-of-the-stars-lyrics\n",
      "Pearl of the Stars Lyrics\n",
      "https://genius.com/Coheed-and-cambria-in-the-flame-of-error-lyrics\n",
      "In the Flame of Error Lyrics\n",
      "https://genius.com/Coheed-and-cambria-when-skeletons-live-lyrics\n",
      "When Skeletons Live Lyrics\n",
      "https://genius.com/Coheed-and-cambria-the-black-rainbow-lyrics\n",
      "The Black Rainbow Lyrics\n",
      "https://genius.com/Coheed-and-cambria-chamberlain-demo-lyrics\n",
      "Chamberlain (Demo) Lyrics\n",
      "https://genius.com/Coheed-and-cambria-the-lost-shepherd-demo-lyrics\n",
      "The Lost Shepherd (Demo) Lyrics\n",
      "https://genius.com/Coheed-and-cambria-hush-lyrics\n",
      "Hush Lyrics\n"
     ]
    }
   ],
   "source": [
    "driver.get(url)\n",
    "lyrics={}\n",
    "album_elements=driver.find_elements_by_class_name('vertical_album_card')\n",
    "for count,album in enumerate(album_elements):\n",
    "    time.sleep(1)\n",
    "    album_link=album_elements[count].get_attribute('href')\n",
    "    album_name=album_elements[count].get_attribute('title')\n",
    "    lyrics[album_name]={}\n",
    "    print(album_link)\n",
    "    driver.get(album_link)\n",
    "    time.sleep(1)\n",
    "    track_elements=driver.find_elements_by_class_name('chart_row-content')\n",
    "    for count, track in enumerate(track_elements):\n",
    "        driver.save_screenshot(f'test{count}.png')\n",
    "        track_names=driver.find_elements_by_class_name('chart_row-content-title')             \n",
    "        track_name=track_names[count].text\n",
    "        track_elements=driver.find_elements_by_class_name('u-display_block')\n",
    "        track_link=track_elements[count].get_attribute('href')\n",
    "        print(track_link)\n",
    "        time.sleep(1)\n",
    "        driver.get(track_link)\n",
    "        lyric_div=driver.find_element_by_tag_name('lyrics')\n",
    "        lyric_section=driver.find_element_by_tag_name('section')\n",
    "        lyric=driver.find_element_by_tag_name('p')\n",
    "        print((track_name))\n",
    "        lyrics[album_name][track_name]=lyric.text\n",
    "        driver.back()\n",
    "        time.sleep(1)\n",
    "        track_elements=driver.find_elements_by_class_name('chart_row-contet')\n",
    "    driver.get(url)\n",
    "    time.sleep(1)\n",
    "    album_elements=driver.find_elements_by_class_name('vertical_album_card')"
   ]
  },
  {
   "cell_type": "markdown",
   "metadata": {},
   "source": [
    "## Synthesizing\n",
    "Create a script using your two functions above to scrape all of the song lyrics for a given artist.\n"
   ]
  },
  {
   "cell_type": "code",
   "execution_count": 89,
   "metadata": {},
   "outputs": [
    {
     "name": "stdout",
     "output_type": "stream",
     "text": [
      "[3.5333333333333337, 2.9166666666666665, 1.1818181818181817, 2.6666666666666665, 3.777777777777778, 3.7333333333333334]\n",
      "['Vaxis – Act I: The Unheavenly Creatures', 'The Color Before the Sun', 'The Afterman: Descension (Big Beige Demos)', 'The Afterman: Descension', 'The Afterman: Ascension', 'Year of the Black Rainbow']\n"
     ]
    }
   ],
   "source": [
    "chorus_count=[]\n",
    "album_name=[]\n",
    "for count, album in enumerate(lyrics):\n",
    "    chorus_count.append(0)\n",
    "    album_name.append(album)\n",
    "    for track in lyrics[album]:\n",
    "        chorus_count[count]+=lyrics[album][track].count('Chorus')/len(lyrics[album])\n",
    "print(chorus_count)\n",
    "print(album_name)"
   ]
  },
  {
   "cell_type": "code",
   "execution_count": 90,
   "metadata": {},
   "outputs": [
    {
     "name": "stdout",
     "output_type": "stream",
     "text": [
      "[365.5333333333333, 265.91666666666663, 272.54545454545456, 279.83333333333337, 275.77777777777777, 283.1333333333333]\n",
      "['Vaxis – Act I: The Unheavenly Creatures', 'The Color Before the Sun', 'The Afterman: Descension (Big Beige Demos)', 'The Afterman: Descension', 'The Afterman: Ascension', 'Year of the Black Rainbow']\n"
     ]
    }
   ],
   "source": [
    "word_count=[]\n",
    "album_name2=[]\n",
    "for count, album in enumerate(lyrics):\n",
    "    word_count.append(0)\n",
    "    album_name2.append(album)\n",
    "    for track in lyrics[album]:\n",
    "        word_count[count]+=len(lyrics[album][track].split())/len(lyrics[album])\n",
    "print(word_count)\n",
    "print(album_name2)"
   ]
  },
  {
   "cell_type": "code",
   "execution_count": 108,
   "metadata": {},
   "outputs": [
    {
     "name": "stdout",
     "output_type": "stream",
     "text": [
      "[2018, 1341, 1310, 1498, 1079, 1682]\n"
     ]
    }
   ],
   "source": [
    "unique_words=[]\n",
    "for count, album in enumerate(lyrics):\n",
    "    unique_words.append([])\n",
    "    for track in lyrics[album]:\n",
    "        unique_words[count].extend(set(lyrics[album][track].lower().split()))\n",
    "total_unique=[]\n",
    "for album in unique_words:\n",
    "    total_unique.append(len(album))\n",
    "print(total_unique)"
   ]
  },
  {
   "cell_type": "code",
   "execution_count": 61,
   "metadata": {},
   "outputs": [
    {
     "name": "stdout",
     "output_type": "stream",
     "text": [
      "<class 'str'>\n"
     ]
    }
   ],
   "source": [
    "print(type((lyrics['The Color Before the Sun']['Atlas Lyrics'])))"
   ]
  },
  {
   "cell_type": "markdown",
   "metadata": {},
   "source": [
    "## Visualizing\n",
    "Generate two bar graphs to compare lyrical changes for the artist of your chose. For example, the two bar charts could compare the lyrics for two different songs or two different albums."
   ]
  },
  {
   "cell_type": "code",
   "execution_count": 114,
   "metadata": {},
   "outputs": [
    {
     "ename": "NameError",
     "evalue": "name 'album_titles' is not defined",
     "output_type": "error",
     "traceback": [
      "\u001b[0;31m---------------------------------------------------------------------------\u001b[0m",
      "\u001b[0;31mNameError\u001b[0m                                 Traceback (most recent call last)",
      "\u001b[0;32m<ipython-input-114-89d141e66801>\u001b[0m in \u001b[0;36m<module>\u001b[0;34m\u001b[0m\n\u001b[0;32m----> 1\u001b[0;31m \u001b[0malbum_titles\u001b[0m\u001b[0;34m\u001b[0m\u001b[0;34m\u001b[0m\u001b[0m\n\u001b[0m",
      "\u001b[0;31mNameError\u001b[0m: name 'album_titles' is not defined"
     ]
    }
   ],
   "source": [
    "album_titles"
   ]
  },
  {
   "cell_type": "code",
   "execution_count": 86,
   "metadata": {},
   "outputs": [],
   "source": [
    "import matplotlib.pyplot as plt"
   ]
  },
  {
   "cell_type": "code",
   "execution_count": 120,
   "metadata": {},
   "outputs": [
    {
     "data": {
      "image/png": "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\n",
      "text/plain": [
       "<Figure size 432x288 with 1 Axes>"
      ]
     },
     "metadata": {
      "needs_background": "light"
     },
     "output_type": "display_data"
    }
   ],
   "source": [
    "fig,ax=plt.subplots()\n",
    "ax.plot(total_unique,'go--', linewidth=2, markersize=12)\n",
    "plt.title(\"Unique Words in Coheed's Top 6 Albums\")\n",
    "plt.xlabel('Albums')\n",
    "plt.xticks(range(6), album_name,rotation='vertical')\n",
    "plt.ylabel('# of Unique Words Per Song')\n",
    "fig.show()\n",
    "plt.savefig('CoheedLine.png',bbox_inches='tight')"
   ]
  },
  {
   "cell_type": "code",
   "execution_count": 98,
   "metadata": {},
   "outputs": [
    {
     "data": {
      "image/png": "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\n",
      "text/plain": [
       "<Figure size 432x288 with 1 Axes>"
      ]
     },
     "metadata": {
      "needs_background": "light"
     },
     "output_type": "display_data"
    }
   ],
   "source": [
    "fig,ax=plt.subplots()\n",
    "ax.scatter(chorus_count,word_count)\n",
    "for i, txt in enumerate(album_name):\n",
    "    ax.annotate(txt, (chorus_count[i],word_count[i]))\n",
    "plt.title(\"Word Count versus Chorus Count in Coheed's Top 6 Albums\")\n",
    "plt.xlabel('# of Choruses Per song')\n",
    "plt.ylabel('# of Words Per Song')\n",
    "fig.show()\n",
    "plt.savefig('CoheedScatter.png', bbox_inches='tight')"
   ]
  },
  {
   "cell_type": "markdown",
   "metadata": {},
   "source": [
    "## Level - Up\n",
    "\n",
    "Think about how you structured the data from your web scraper. Did you scrape the entire song lyrics verbatim? Did you simply store the words and their frequency counts, or did you do something else entirely? List out a few different options for how you could have stored this data. What are advantages and disadvantages of each? Be specific and think about what sort of analyses each representation would lend itself to."
   ]
  },
  {
   "cell_type": "markdown",
   "metadata": {},
   "source": [
    "**Response**\n",
    "\n",
    "The albums were stored as dictionaries in a dictionary with each track storing the block of lyrics as a string. This storage format is good to maintain the positional nature of the text as well as its structure.\n",
    "\n",
    "Condensing strategies for storage could include instead storing each unique word and its frequency if the analysis is only interested on the information on an aggregate level. This would lose the context of each word but would maintain their totals.\n",
    "\n",
    "Another strategy would be to remove words like articles or characters like punctuation in order to only preserve the characteristic data of the set and not the functional markers of the given language. This would make the text less readable, but would preserve most of the positional nature of the text as well as the unique aggregate data."
   ]
  },
  {
   "cell_type": "markdown",
   "metadata": {},
   "source": [
    "## Summary"
   ]
  },
  {
   "cell_type": "markdown",
   "metadata": {},
   "source": [
    "Congratulations! You've now practiced your Beautiful Soup knowledge!"
   ]
  }
 ],
 "metadata": {
  "kernelspec": {
   "display_name": "Python 3",
   "language": "python",
   "name": "python3"
  },
  "language_info": {
   "codemirror_mode": {
    "name": "ipython",
    "version": 3
   },
   "file_extension": ".py",
   "mimetype": "text/x-python",
   "name": "python",
   "nbconvert_exporter": "python",
   "pygments_lexer": "ipython3",
<<<<<<< HEAD
   "version": "3.7.1"
=======
   "version": "3.6.6"
>>>>>>> 72b6366ea3278e450fcfc3dd78ea1ce777d2bca0
  }
 },
 "nbformat": 4,
 "nbformat_minor": 2
}
